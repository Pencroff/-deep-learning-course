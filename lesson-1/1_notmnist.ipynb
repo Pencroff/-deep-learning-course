{
 "cells": [
  {
   "cell_type": "markdown",
   "metadata": {
    "colab_type": "text",
    "id": "5hIbr52I7Z7U"
   },
   "source": [
    "Deep Learning\n",
    "=============\n",
    "\n",
    "Assignment 1\n",
    "------------\n",
    "\n",
    "The objective of this assignment is to learn about simple data curation practices, and familiarize you with some of the data we'll be reusing later.\n",
    "\n",
    "This notebook uses the [notMNIST](http://yaroslavvb.blogspot.com/2011/09/notmnist-dataset.html) dataset to be used with python experiments. This dataset is designed to look like the classic [MNIST](http://yann.lecun.com/exdb/mnist/) dataset, while looking a little more like real data: it's a harder task, and the data is a lot less 'clean' than MNIST."
   ]
  },
  {
   "cell_type": "code",
   "execution_count": 1,
   "metadata": {
    "cellView": "both",
    "colab": {
     "autoexec": {
      "startup": false,
      "wait_interval": 0
     }
    },
    "colab_type": "code",
    "collapsed": true,
    "id": "apJbCsBHl-2A"
   },
   "outputs": [],
   "source": [
    "# These are all the modules we'll be using later. Make sure you can import them\n",
    "# before proceeding further.\n",
    "from __future__ import print_function\n",
    "import matplotlib.pyplot as plt\n",
    "import numpy as np\n",
    "import os\n",
    "import sys\n",
    "import time\n",
    "from datetime import timedelta\n",
    "import tarfile\n",
    "from IPython.display import display, Image\n",
    "from scipy import ndimage\n",
    "from scipy.spatial import distance\n",
    "from sklearn.linear_model import LogisticRegression\n",
    "from six.moves.urllib.request import urlretrieve\n",
    "from six.moves import cPickle as pickle\n",
    "\n",
    "# Config the matplotlib backend as plotting inline in IPython\n",
    "%matplotlib inline"
   ]
  },
  {
   "cell_type": "markdown",
   "metadata": {
    "colab_type": "text",
    "id": "jNWGtZaXn-5j"
   },
   "source": [
    "First, we'll download the dataset to our local machine. The data consists of characters rendered in a variety of fonts on a 28x28 image. The labels are limited to 'A' through 'J' (10 classes). The training set has about 500k and the testset 19000 labelled examples. Given these sizes, it should be possible to train models quickly on any machine."
   ]
  },
  {
   "cell_type": "code",
   "execution_count": 2,
   "metadata": {
    "cellView": "both",
    "colab": {
     "autoexec": {
      "startup": false,
      "wait_interval": 0
     },
     "output_extras": [
      {
       "item_id": 1
      }
     ]
    },
    "colab_type": "code",
    "collapsed": false,
    "executionInfo": {
     "elapsed": 186058,
     "status": "ok",
     "timestamp": 1444485672507,
     "user": {
      "color": "#1FA15D",
      "displayName": "Vincent Vanhoucke",
      "isAnonymous": false,
      "isMe": true,
      "permissionId": "05076109866853157986",
      "photoUrl": "//lh6.googleusercontent.com/-cCJa7dTDcgQ/AAAAAAAAAAI/AAAAAAAACgw/r2EZ_8oYer4/s50-c-k-no/photo.jpg",
      "sessionId": "2a0a5e044bb03b66",
      "userId": "102167687554210253930"
     },
     "user_tz": 420
    },
    "id": "EYRJ4ICW6-da",
    "outputId": "0d0f85df-155f-4a89-8e7e-ee32df36ec8d"
   },
   "outputs": [
    {
     "name": "stdout",
     "output_type": "stream",
     "text": [
      "Found and verified notMNIST_large.tar.gz\n",
      "Found and verified notMNIST_small.tar.gz\n"
     ]
    }
   ],
   "source": [
    "url = 'http://commondatastorage.googleapis.com/books1000/'\n",
    "last_percent_reported = None\n",
    "\n",
    "def download_progress_hook(count, blockSize, totalSize):\n",
    "  \"\"\"A hook to report the progress of a download. This is mostly intended for users with\n",
    "  slow internet connections. Reports every 1% change in download progress.\n",
    "  \"\"\"\n",
    "  global last_percent_reported\n",
    "  percent = int(count * blockSize * 100 / totalSize)\n",
    "\n",
    "  if last_percent_reported != percent:\n",
    "    if percent % 5 == 0:\n",
    "      sys.stdout.write(\"%s%%\" % percent)\n",
    "      sys.stdout.flush()\n",
    "    else:\n",
    "      sys.stdout.write(\".\")\n",
    "      sys.stdout.flush()\n",
    "      \n",
    "    last_percent_reported = percent\n",
    "        \n",
    "def maybe_download(filename, expected_bytes, force=False):\n",
    "  \"\"\"Download a file if not present, and make sure it's the right size.\"\"\"\n",
    "  if force or not os.path.exists(filename):\n",
    "    print('Attempting to download:', filename) \n",
    "    filename, _ = urlretrieve(url + filename, filename, reporthook=download_progress_hook)\n",
    "    print('\\nDownload Complete!')\n",
    "  statinfo = os.stat(filename)\n",
    "  if statinfo.st_size == expected_bytes:\n",
    "    print('Found and verified', filename)\n",
    "  else:\n",
    "    raise Exception(\n",
    "      'Failed to verify ' + filename + '. Can you get to it with a browser?')\n",
    "  return filename\n",
    "\n",
    "train_filename = maybe_download('notMNIST_large.tar.gz', 247336696)\n",
    "test_filename = maybe_download('notMNIST_small.tar.gz', 8458043)"
   ]
  },
  {
   "cell_type": "markdown",
   "metadata": {
    "colab_type": "text",
    "id": "cC3p0oEyF8QT"
   },
   "source": [
    "Extract the dataset from the compressed .tar.gz file.\n",
    "This should give you a set of directories, labelled A through J."
   ]
  },
  {
   "cell_type": "code",
   "execution_count": 3,
   "metadata": {
    "cellView": "both",
    "colab": {
     "autoexec": {
      "startup": false,
      "wait_interval": 0
     },
     "output_extras": [
      {
       "item_id": 1
      }
     ]
    },
    "colab_type": "code",
    "collapsed": false,
    "executionInfo": {
     "elapsed": 186055,
     "status": "ok",
     "timestamp": 1444485672525,
     "user": {
      "color": "#1FA15D",
      "displayName": "Vincent Vanhoucke",
      "isAnonymous": false,
      "isMe": true,
      "permissionId": "05076109866853157986",
      "photoUrl": "//lh6.googleusercontent.com/-cCJa7dTDcgQ/AAAAAAAAAAI/AAAAAAAACgw/r2EZ_8oYer4/s50-c-k-no/photo.jpg",
      "sessionId": "2a0a5e044bb03b66",
      "userId": "102167687554210253930"
     },
     "user_tz": 420
    },
    "id": "H8CBE-WZ8nmj",
    "outputId": "ef6c790c-2513-4b09-962e-27c79390c762"
   },
   "outputs": [
    {
     "name": "stdout",
     "output_type": "stream",
     "text": [
      "notMNIST_large already present - Skipping extraction of notMNIST_large.tar.gz.\n",
      "['notMNIST_large\\\\A', 'notMNIST_large\\\\B', 'notMNIST_large\\\\C', 'notMNIST_large\\\\D', 'notMNIST_large\\\\E', 'notMNIST_large\\\\F', 'notMNIST_large\\\\G', 'notMNIST_large\\\\H', 'notMNIST_large\\\\I', 'notMNIST_large\\\\J']\n",
      "notMNIST_small already present - Skipping extraction of notMNIST_small.tar.gz.\n",
      "['notMNIST_small\\\\A', 'notMNIST_small\\\\B', 'notMNIST_small\\\\C', 'notMNIST_small\\\\D', 'notMNIST_small\\\\E', 'notMNIST_small\\\\F', 'notMNIST_small\\\\G', 'notMNIST_small\\\\H', 'notMNIST_small\\\\I', 'notMNIST_small\\\\J']\n"
     ]
    }
   ],
   "source": [
    "num_classes = 10\n",
    "np.random.seed(133)\n",
    "\n",
    "def maybe_extract(filename, force=False):\n",
    "  root = os.path.splitext(os.path.splitext(filename)[0])[0]  # remove .tar.gz\n",
    "  if os.path.isdir(root) and not force:\n",
    "    # You may override by setting force=True.\n",
    "    print('%s already present - Skipping extraction of %s.' % (root, filename))\n",
    "  else:\n",
    "    print('Extracting data for %s. This may take a while. Please wait.' % root)\n",
    "    tar = tarfile.open(filename)\n",
    "    sys.stdout.flush()\n",
    "    tar.extractall()\n",
    "    tar.close()\n",
    "  data_folders = [\n",
    "    os.path.join(root, d) for d in sorted(os.listdir(root))\n",
    "    if os.path.isdir(os.path.join(root, d))]\n",
    "  if len(data_folders) != num_classes:\n",
    "    raise Exception(\n",
    "      'Expected %d folders, one per class. Found %d instead.' % (\n",
    "        num_classes, len(data_folders)))\n",
    "  print(data_folders)\n",
    "  return data_folders\n",
    "  \n",
    "train_folders = maybe_extract(train_filename)\n",
    "test_folders = maybe_extract(test_filename)"
   ]
  },
  {
   "cell_type": "markdown",
   "metadata": {
    "colab_type": "text",
    "id": "4riXK3IoHgx6"
   },
   "source": [
    "---\n",
    "Problem 1\n",
    "---------\n",
    "\n",
    "Let's take a peek at some of the data to make sure it looks sensible. Each exemplar should be an image of a character A through J rendered in a different font. Display a sample of the images that we just downloaded. Hint: you can use the package IPython.display.\n",
    "\n",
    "---"
   ]
  },
  {
   "cell_type": "code",
   "execution_count": 4,
   "metadata": {
    "collapsed": false
   },
   "outputs": [
    {
     "name": "stdout",
     "output_type": "stream",
     "text": [
      "Letter: A\n"
     ]
    },
    {
     "data": {
      "image/png": "[encoded data removed]",
      "text/plain": [
       "<IPython.core.display.Image object>"
      ]
     },
     "metadata": {},
     "output_type": "display_data"
    },
    {
     "name": "stdout",
     "output_type": "stream",
     "text": [
      "Letter: B\n"
     ]
    },
    {
     "data": {
      "image/png": "[encoded data removed]",
      "text/plain": [
       "<IPython.core.display.Image object>"
      ]
     },
     "metadata": {},
     "output_type": "display_data"
    },
    {
     "name": "stdout",
     "output_type": "stream",
     "text": [
      "Letter: C\n"
     ]
    },
    {
     "data": {
      "image/png": "[encoded data removed]",
      "text/plain": [
       "<IPython.core.display.Image object>"
      ]
     },
     "metadata": {},
     "output_type": "display_data"
    },
    {
     "name": "stdout",
     "output_type": "stream",
     "text": [
      "Letter: D\n"
     ]
    },
    {
     "data": {
      "image/png": "[encoded data removed]",
      "text/plain": [
       "<IPython.core.display.Image object>"
      ]
     },
     "metadata": {},
     "output_type": "display_data"
    },
    {
     "name": "stdout",
     "output_type": "stream",
     "text": [
      "Letter: E\n"
     ]
    },
    {
     "data": {
      "image/png": "[encoded data removed]",
      "text/plain": [
       "<IPython.core.display.Image object>"
      ]
     },
     "metadata": {},
     "output_type": "display_data"
    },
    {
     "name": "stdout",
     "output_type": "stream",
     "text": [
      "Letter: F\n"
     ]
    },
    {
     "data": {
      "image/png": "[encoded data removed]",
      "text/plain": [
       "<IPython.core.display.Image object>"
      ]
     },
     "metadata": {},
     "output_type": "display_data"
    },
    {
     "name": "stdout",
     "output_type": "stream",
     "text": [
      "Letter: G\n"
     ]
    },
    {
     "data": {
      "image/png": "[encoded data removed]",
      "text/plain": [
       "<IPython.core.display.Image object>"
      ]
     },
     "metadata": {},
     "output_type": "display_data"
    },
    {
     "name": "stdout",
     "output_type": "stream",
     "text": [
      "Letter: H\n"
     ]
    },
    {
     "data": {
      "image/png": "[encoded data removed]",
      "text/plain": [
       "<IPython.core.display.Image object>"
      ]
     },
     "metadata": {},
     "output_type": "display_data"
    },
    {
     "name": "stdout",
     "output_type": "stream",
     "text": [
      "Letter: I\n"
     ]
    },
    {
     "data": {
      "image/png": "[encoded data removed]",
      "text/plain": [
       "<IPython.core.display.Image object>"
      ]
     },
     "metadata": {},
     "output_type": "display_data"
    },
    {
     "name": "stdout",
     "output_type": "stream",
     "text": [
      "Letter: J\n"
     ]
    },
    {
     "data": {
      "image/png": "[encoded data removed]",
      "text/plain": [
       "<IPython.core.display.Image object>"
      ]
     },
     "metadata": {},
     "output_type": "display_data"
    },
    {
     "name": "stdout",
     "output_type": "stream",
     "text": [
      "Letter: A\n"
     ]
    },
    {
     "data": {
      "image/png": "[encoded data removed]",
      "text/plain": [
       "<IPython.core.display.Image object>"
      ]
     },
     "metadata": {},
     "output_type": "display_data"
    },
    {
     "name": "stdout",
     "output_type": "stream",
     "text": [
      "Letter: B\n"
     ]
    },
    {
     "data": {
      "image/png": "[encoded data removed]",
      "text/plain": [
       "<IPython.core.display.Image object>"
      ]
     },
     "metadata": {},
     "output_type": "display_data"
    },
    {
     "name": "stdout",
     "output_type": "stream",
     "text": [
      "Letter: C\n"
     ]
    },
    {
     "data": {
      "image/png": "[encoded data removed]",
      "text/plain": [
       "<IPython.core.display.Image object>"
      ]
     },
     "metadata": {},
     "output_type": "display_data"
    },
    {
     "name": "stdout",
     "output_type": "stream",
     "text": [
      "Letter: D\n"
     ]
    },
    {
     "data": {
      "image/png": "[encoded data removed]",
      "text/plain": [
       "<IPython.core.display.Image object>"
      ]
     },
     "metadata": {},
     "output_type": "display_data"
    },
    {
     "name": "stdout",
     "output_type": "stream",
     "text": [
      "Letter: E\n"
     ]
    },
    {
     "data": {
      "image/png": "[encoded data removed]",
      "text/plain": [
       "<IPython.core.display.Image object>"
      ]
     },
     "metadata": {},
     "output_type": "display_data"
    },
    {
     "name": "stdout",
     "output_type": "stream",
     "text": [
      "Letter: F\n"
     ]
    },
    {
     "data": {
      "image/png": "[encoded data removed]",
      "text/plain": [
       "<IPython.core.display.Image object>"
      ]
     },
     "metadata": {},
     "output_type": "display_data"
    },
    {
     "name": "stdout",
     "output_type": "stream",
     "text": [
      "Letter: G\n"
     ]
    },
    {
     "data": {
      "image/png": "[encoded data removed]",
      "text/plain": [
       "<IPython.core.display.Image object>"
      ]
     },
     "metadata": {},
     "output_type": "display_data"
    },
    {
     "name": "stdout",
     "output_type": "stream",
     "text": [
      "Letter: H\n"
     ]
    },
    {
     "data": {
      "image/png": "[encoded data removed]",
      "text/plain": [
       "<IPython.core.display.Image object>"
      ]
     },
     "metadata": {},
     "output_type": "display_data"
    },
    {
     "name": "stdout",
     "output_type": "stream",
     "text": [
      "Letter: I\n"
     ]
    },
    {
     "data": {
      "image/png": "[encoded data removed]",
      "text/plain": [
       "<IPython.core.display.Image object>"
      ]
     },
     "metadata": {},
     "output_type": "display_data"
    },
    {
     "name": "stdout",
     "output_type": "stream",
     "text": [
      "Letter: J\n"
     ]
    },
    {
     "data": {
      "image/png": "[encoded data removed]",
      "text/plain": [
       "<IPython.core.display.Image object>"
      ]
     },
     "metadata": {},
     "output_type": "display_data"
    }
   ],
   "source": [
    "from IPython.display import Image, display\n",
    "\n",
    "num_first_items = 1\n",
    "def display_first_items(folder_path): \n",
    "    print('Letter:', folder_path[-1:])\n",
    "    lst = os.listdir(folder_path)[:num_first_items]\n",
    "    for file_name in lst: \n",
    "        full_file_name = os.path.join(folder_path, file_name)\n",
    "        display(Image(filename=full_file_name))\n",
    "\n",
    "for folder in train_folders:\n",
    "    display_first_items(folder)\n",
    "for folder in test_folders:\n",
    "    display_first_items(folder)\n"
   ]
  },
  {
   "cell_type": "markdown",
   "metadata": {
    "colab_type": "text",
    "id": "PBdkjESPK8tw"
   },
   "source": [
    "Now let's load the data in a more manageable format. Since, depending on your computer setup you might not be able to fit it all in memory, we'll load each class into a separate dataset, store them on disk and curate them independently. Later we'll merge them into a single dataset of manageable size.\n",
    "\n",
    "We'll convert the entire dataset into a 3D array (image index, x, y) of floating point values, normalized to have approximately zero mean and standard deviation ~0.5 to make training easier down the road. \n",
    "\n",
    "A few images might not be readable, we'll just skip them."
   ]
  },
  {
   "cell_type": "code",
   "execution_count": 5,
   "metadata": {
    "cellView": "both",
    "colab": {
     "autoexec": {
      "startup": false,
      "wait_interval": 0
     },
     "output_extras": [
      {
       "item_id": 30
      }
     ]
    },
    "colab_type": "code",
    "collapsed": false,
    "executionInfo": {
     "elapsed": 399874,
     "status": "ok",
     "timestamp": 1444485886378,
     "user": {
      "color": "#1FA15D",
      "displayName": "Vincent Vanhoucke",
      "isAnonymous": false,
      "isMe": true,
      "permissionId": "05076109866853157986",
      "photoUrl": "//lh6.googleusercontent.com/-cCJa7dTDcgQ/AAAAAAAAAAI/AAAAAAAACgw/r2EZ_8oYer4/s50-c-k-no/photo.jpg",
      "sessionId": "2a0a5e044bb03b66",
      "userId": "102167687554210253930"
     },
     "user_tz": 420
    },
    "id": "h7q0XhG3MJdf",
    "outputId": "92c391bb-86ff-431d-9ada-315568a19e59"
   },
   "outputs": [
    {
     "name": "stdout",
     "output_type": "stream",
     "text": [
      "notMNIST_large\\A.pickle already present - Skipping pickling.\n",
      "notMNIST_large\\B.pickle already present - Skipping pickling.\n",
      "notMNIST_large\\C.pickle already present - Skipping pickling.\n",
      "notMNIST_large\\D.pickle already present - Skipping pickling.\n",
      "notMNIST_large\\E.pickle already present - Skipping pickling.\n",
      "notMNIST_large\\F.pickle already present - Skipping pickling.\n",
      "notMNIST_large\\G.pickle already present - Skipping pickling.\n",
      "notMNIST_large\\H.pickle already present - Skipping pickling.\n",
      "notMNIST_large\\I.pickle already present - Skipping pickling.\n",
      "notMNIST_large\\J.pickle already present - Skipping pickling.\n",
      "notMNIST_small\\A.pickle already present - Skipping pickling.\n",
      "notMNIST_small\\B.pickle already present - Skipping pickling.\n",
      "notMNIST_small\\C.pickle already present - Skipping pickling.\n",
      "notMNIST_small\\D.pickle already present - Skipping pickling.\n",
      "notMNIST_small\\E.pickle already present - Skipping pickling.\n",
      "notMNIST_small\\F.pickle already present - Skipping pickling.\n",
      "notMNIST_small\\G.pickle already present - Skipping pickling.\n",
      "notMNIST_small\\H.pickle already present - Skipping pickling.\n",
      "notMNIST_small\\I.pickle already present - Skipping pickling.\n",
      "notMNIST_small\\J.pickle already present - Skipping pickling.\n"
     ]
    }
   ],
   "source": [
    "image_size = 28  # Pixel width and height.\n",
    "pixel_depth = 255.0  # Number of levels per pixel.\n",
    "\n",
    "def load_letter(folder, min_num_images):\n",
    "  \"\"\"Load the data for a single letter label.\"\"\"\n",
    "  image_files = os.listdir(folder)\n",
    "  dataset = np.ndarray(shape=(len(image_files), image_size, image_size),\n",
    "                         dtype=np.float32)\n",
    "  print(folder)\n",
    "  num_images = 0\n",
    "  for image in image_files:\n",
    "    image_file = os.path.join(folder, image)\n",
    "    try:\n",
    "      image_data = (ndimage.imread(image_file).astype(float) - \n",
    "                    pixel_depth / 2) / pixel_depth\n",
    "      if image_data.shape != (image_size, image_size):\n",
    "        raise Exception('Unexpected image shape: %s' % str(image_data.shape))\n",
    "      if image_data.mean() == 0.5:\n",
    "        print('No data in image:', image_file)\n",
    "        continue\n",
    "      dataset[num_images, :, :] = image_data\n",
    "      num_images = num_images + 1\n",
    "    except IOError as e:\n",
    "      print('Could not read:', image_file, ':', e, '- it\\'s ok, skipping.')\n",
    "    \n",
    "  dataset = dataset[0:num_images, :, :]\n",
    "  if num_images < min_num_images:\n",
    "    raise Exception('Many fewer images than expected: %d < %d' %\n",
    "                    (num_images, min_num_images))\n",
    "    \n",
    "  print('Full dataset tensor:', dataset.shape)\n",
    "  print('Mean:', np.mean(dataset))\n",
    "  print('Standard deviation:', np.std(dataset))\n",
    "  return dataset\n",
    "        \n",
    "def maybe_pickle(data_folders, min_num_images_per_class, force=False):\n",
    "  dataset_names = []\n",
    "  for folder in data_folders:\n",
    "    set_filename = folder + '.pickle'\n",
    "    dataset_names.append(set_filename)\n",
    "    if os.path.exists(set_filename) and not force:\n",
    "      # You may override by setting force=True.\n",
    "      print('%s already present - Skipping pickling.' % set_filename)\n",
    "    else:\n",
    "      print('Pickling %s.' % set_filename)\n",
    "      dataset = load_letter(folder, min_num_images_per_class)\n",
    "      try:\n",
    "        with open(set_filename, 'wb') as f:\n",
    "          pickle.dump(dataset, f, pickle.HIGHEST_PROTOCOL)\n",
    "      except Exception as e:\n",
    "        print('Unable to save data to', set_filename, ':', e)\n",
    "  \n",
    "  return dataset_names\n",
    "\n",
    "train_datasets = maybe_pickle(train_folders, 45000)\n",
    "test_datasets = maybe_pickle(test_folders, 1600)"
   ]
  },
  {
   "cell_type": "markdown",
   "metadata": {
    "colab_type": "text",
    "id": "vUdbskYE2d87"
   },
   "source": [
    "---\n",
    "Problem 2\n",
    "---------\n",
    "\n",
    "Let's verify that the data still looks good. Displaying a sample of the labels and images from the ndarray. Hint: you can use matplotlib.pyplot.\n",
    "\n",
    "---"
   ]
  },
  {
   "cell_type": "code",
   "execution_count": 6,
   "metadata": {
    "collapsed": false,
    "scrolled": false
   },
   "outputs": [
    {
     "name": "stdout",
     "output_type": "stream",
     "text": [
      "notMNIST_large\\A.pickle\n"
     ]
    },
    {
     "data": {
      "image/png": "[encoded data removed]",
      "text/plain": [
       "<matplotlib.figure.Figure at 0x2565b9e1828>"
      ]
     },
     "metadata": {},
     "output_type": "display_data"
    },
    {
     "name": "stdout",
     "output_type": "stream",
     "text": [
      "notMNIST_large\\B.pickle\n"
     ]
    },
    {
     "data": {
      "image/png": "[encoded data removed]",
      "text/plain": [
       "<matplotlib.figure.Figure at 0x2565bcdba90>"
      ]
     },
     "metadata": {},
     "output_type": "display_data"
    },
    {
     "name": "stdout",
     "output_type": "stream",
     "text": [
      "notMNIST_large\\C.pickle\n"
     ]
    },
    {
     "data": {
      "image/png": "[encoded data removed]",
      "text/plain": [
       "<matplotlib.figure.Figure at 0x2565e8da8d0>"
      ]
     },
     "metadata": {},
     "output_type": "display_data"
    },
    {
     "name": "stdout",
     "output_type": "stream",
     "text": [
      "notMNIST_large\\D.pickle\n"
     ]
    },
    {
     "data": {
      "image/png": "[encoded data removed]",
      "text/plain": [
       "<matplotlib.figure.Figure at 0x2565e7a8f60>"
      ]
     },
     "metadata": {},
     "output_type": "display_data"
    },
    {
     "name": "stdout",
     "output_type": "stream",
     "text": [
      "notMNIST_large\\E.pickle\n"
     ]
    },
    {
     "data": {
      "image/png": "[encoded data removed]",
      "text/plain": [
       "<matplotlib.figure.Figure at 0x2565fd806d8>"
      ]
     },
     "metadata": {},
     "output_type": "display_data"
    },
    {
     "name": "stdout",
     "output_type": "stream",
     "text": [
      "notMNIST_large\\F.pickle\n"
     ]
    },
    {
     "data": {
      "image/png": "[encoded data removed]",
      "text/plain": [
       "<matplotlib.figure.Figure at 0x2565fd57198>"
      ]
     },
     "metadata": {},
     "output_type": "display_data"
    },
    {
     "name": "stdout",
     "output_type": "stream",
     "text": [
      "notMNIST_large\\G.pickle\n"
     ]
    },
    {
     "data": {
      "image/png": "[encoded data removed]",
      "text/plain": [
       "<matplotlib.figure.Figure at 0x2565fde5e10>"
      ]
     },
     "metadata": {},
     "output_type": "display_data"
    },
    {
     "name": "stdout",
     "output_type": "stream",
     "text": [
      "notMNIST_large\\H.pickle\n"
     ]
    },
    {
     "data": {
      "image/png": "[encoded data removed]",
      "text/plain": [
       "<matplotlib.figure.Figure at 0x2565fde5c88>"
      ]
     },
     "metadata": {},
     "output_type": "display_data"
    },
    {
     "name": "stdout",
     "output_type": "stream",
     "text": [
      "notMNIST_large\\I.pickle\n"
     ]
    },
    {
     "data": {
      "image/png": "[encoded data removed]",
      "text/plain": [
       "<matplotlib.figure.Figure at 0x2565fd12518>"
      ]
     },
     "metadata": {},
     "output_type": "display_data"
    },
    {
     "name": "stdout",
     "output_type": "stream",
     "text": [
      "notMNIST_large\\J.pickle\n"
     ]
    },
    {
     "data": {
      "image/png": "[encoded data removed]",
      "text/plain": [
       "<matplotlib.figure.Figure at 0x2565fdbd940>"
      ]
     },
     "metadata": {},
     "output_type": "display_data"
    },
    {
     "name": "stdout",
     "output_type": "stream",
     "text": [
      "notMNIST_small\\A.pickle\n"
     ]
    },
    {
     "data": {
      "image/png": "[encoded data removed]",
      "text/plain": [
       "<matplotlib.figure.Figure at 0x2565fdc0eb8>"
      ]
     },
     "metadata": {},
     "output_type": "display_data"
    },
    {
     "name": "stdout",
     "output_type": "stream",
     "text": [
      "notMNIST_small\\B.pickle\n"
     ]
    },
    {
     "data": {
      "image/png": "[encoded data removed]",
      "text/plain": [
       "<matplotlib.figure.Figure at 0x2565eb047b8>"
      ]
     },
     "metadata": {},
     "output_type": "display_data"
    },
    {
     "name": "stdout",
     "output_type": "stream",
     "text": [
      "notMNIST_small\\C.pickle\n"
     ]
    },
    {
     "data": {
      "image/png": "[encoded data removed]",
      "text/plain": [
       "<matplotlib.figure.Figure at 0x2565ff15550>"
      ]
     },
     "metadata": {},
     "output_type": "display_data"
    },
    {
     "name": "stdout",
     "output_type": "stream",
     "text": [
      "notMNIST_small\\D.pickle\n"
     ]
    },
    {
     "data": {
      "image/png": "[encoded data removed]",
      "text/plain": [
       "<matplotlib.figure.Figure at 0x2565fea3518>"
      ]
     },
     "metadata": {},
     "output_type": "display_data"
    },
    {
     "name": "stdout",
     "output_type": "stream",
     "text": [
      "notMNIST_small\\E.pickle\n"
     ]
    },
    {
     "data": {
      "image/png": "[encoded data removed]",
      "text/plain": [
       "<matplotlib.figure.Figure at 0x2565ff62fd0>"
      ]
     },
     "metadata": {},
     "output_type": "display_data"
    },
    {
     "name": "stdout",
     "output_type": "stream",
     "text": [
      "notMNIST_small\\F.pickle\n"
     ]
    },
    {
     "data": {
      "image/png": "[encoded data removed]",
      "text/plain": [
       "<matplotlib.figure.Figure at 0x2566003d358>"
      ]
     },
     "metadata": {},
     "output_type": "display_data"
    },
    {
     "name": "stdout",
     "output_type": "stream",
     "text": [
      "notMNIST_small\\G.pickle\n"
     ]
    },
    {
     "data": {
      "image/png": "[encoded data removed]",
      "text/plain": [
       "<matplotlib.figure.Figure at 0x2566003d2b0>"
      ]
     },
     "metadata": {},
     "output_type": "display_data"
    },
    {
     "name": "stdout",
     "output_type": "stream",
     "text": [
      "notMNIST_small\\H.pickle\n"
     ]
    },
    {
     "data": {
      "image/png": "[encoded data removed]",
      "text/plain": [
       "<matplotlib.figure.Figure at 0x2566002f4a8>"
      ]
     },
     "metadata": {},
     "output_type": "display_data"
    },
    {
     "name": "stdout",
     "output_type": "stream",
     "text": [
      "notMNIST_small\\I.pickle\n"
     ]
    },
    {
     "data": {
      "image/png": "[encoded data removed]",
      "text/plain": [
       "<matplotlib.figure.Figure at 0x2565ff7a6a0>"
      ]
     },
     "metadata": {},
     "output_type": "display_data"
    },
    {
     "name": "stdout",
     "output_type": "stream",
     "text": [
      "notMNIST_small\\J.pickle\n"
     ]
    },
    {
     "data": {
      "image/png": "[encoded data removed]",
      "text/plain": [
       "<matplotlib.figure.Figure at 0x2565e72ce10>"
      ]
     },
     "metadata": {},
     "output_type": "display_data"
    }
   ],
   "source": [
    "def show_pickle(file_path):\n",
    "    print(file_path)\n",
    "    with open(file_path, 'rb') as f:\n",
    "        dataset = pickle.load(f)\n",
    "    plt.figure(figsize=(1,1))\n",
    "    plt.imshow(dataset[1])\n",
    "    plt.show()\n",
    "        \n",
    "for pickle_file in train_datasets:\n",
    "    show_pickle(pickle_file)\n",
    "for pickle_file in test_datasets:\n",
    "    show_pickle(pickle_file)\n",
    "    "
   ]
  },
  {
   "cell_type": "markdown",
   "metadata": {
    "colab_type": "text",
    "id": "cYznx5jUwzoO"
   },
   "source": [
    "---\n",
    "Problem 3\n",
    "---------\n",
    "Another check: we expect the data to be balanced across classes. Verify that.\n",
    "\n",
    "---"
   ]
  },
  {
   "cell_type": "code",
   "execution_count": 25,
   "metadata": {
    "collapsed": true
   },
   "outputs": [],
   "source": [
    "map_dict = {'0': 'A', '1': 'B', '2': 'C', '3': 'D', '4': 'E', '5': 'F', '6': 'G', '7': 'H', '8': 'I', '9': 'J', }\n",
    "\n",
    "def get_char_by_lbl(lbl):\n",
    "    result = map_dict[str(lbl)]\n",
    "    return result\n",
    "\n",
    "def count_lables(label_list):\n",
    "    counter_dict = {}\n",
    "    for label in label_list:\n",
    "        lbl = get_char_by_lbl(label)\n",
    "        if lbl not in counter_dict:\n",
    "            counter_dict[lbl] = 0\n",
    "        counter_dict[lbl] += 1\n",
    "    return counter_dict"
   ]
  },
  {
   "cell_type": "code",
   "execution_count": 22,
   "metadata": {
    "collapsed": false
   },
   "outputs": [
    {
     "name": "stdout",
     "output_type": "stream",
     "text": [
      "notMNIST_large\\A.pickle 52904\n",
      "notMNIST_large\\B.pickle 52895\n",
      "notMNIST_large\\C.pickle 52894\n",
      "notMNIST_large\\D.pickle 52906\n",
      "notMNIST_large\\E.pickle 52902\n",
      "notMNIST_large\\F.pickle 52906\n",
      "notMNIST_large\\G.pickle 52893\n",
      "notMNIST_large\\H.pickle 52899\n",
      "notMNIST_large\\I.pickle 47469\n",
      "notMNIST_large\\J.pickle 52894\n",
      "notMNIST_small\\A.pickle 1872\n",
      "notMNIST_small\\B.pickle 1873\n",
      "notMNIST_small\\C.pickle 1873\n",
      "notMNIST_small\\D.pickle 1873\n",
      "notMNIST_small\\E.pickle 1873\n",
      "notMNIST_small\\F.pickle 1872\n",
      "notMNIST_small\\G.pickle 1872\n",
      "notMNIST_small\\H.pickle 1872\n",
      "notMNIST_small\\I.pickle 1618\n",
      "notMNIST_small\\J.pickle 1872\n"
     ]
    }
   ],
   "source": [
    "def show_pickle_stats(file_path):\n",
    "    with open(file_path, 'rb') as f:\n",
    "        dataset = pickle.load(f)\n",
    "    print(file_path, len(dataset))\n",
    "\n",
    "for pickle_file in train_datasets:\n",
    "    show_pickle_stats(pickle_file)\n",
    "for pickle_file in test_datasets:\n",
    "    show_pickle_stats(pickle_file)"
   ]
  },
  {
   "cell_type": "markdown",
   "metadata": {
    "colab_type": "text",
    "id": "LA7M7K22ynCt"
   },
   "source": [
    "Merge and prune the training data as needed. Depending on your computer setup, you might not be able to fit it all in memory, and you can tune `train_size` as needed. The labels will be stored into a separate array of integers 0 through 9.\n",
    "\n",
    "Also create a validation dataset for hyperparameter tuning."
   ]
  },
  {
   "cell_type": "code",
   "execution_count": 9,
   "metadata": {
    "cellView": "both",
    "colab": {
     "autoexec": {
      "startup": false,
      "wait_interval": 0
     },
     "output_extras": [
      {
       "item_id": 1
      }
     ]
    },
    "colab_type": "code",
    "collapsed": false,
    "executionInfo": {
     "elapsed": 411281,
     "status": "ok",
     "timestamp": 1444485897869,
     "user": {
      "color": "#1FA15D",
      "displayName": "Vincent Vanhoucke",
      "isAnonymous": false,
      "isMe": true,
      "permissionId": "05076109866853157986",
      "photoUrl": "//lh6.googleusercontent.com/-cCJa7dTDcgQ/AAAAAAAAAAI/AAAAAAAACgw/r2EZ_8oYer4/s50-c-k-no/photo.jpg",
      "sessionId": "2a0a5e044bb03b66",
      "userId": "102167687554210253930"
     },
     "user_tz": 420
    },
    "id": "s3mWgZLpyuzq",
    "outputId": "8af66da6-902d-4719-bedc-7c9fb7ae7948"
   },
   "outputs": [
    {
     "name": "stdout",
     "output_type": "stream",
     "text": [
      "Training: (200000, 28, 28) (200000,)\n",
      "Validation: (10000, 28, 28) (10000,)\n",
      "Testing: (10000, 28, 28) (10000,)\n"
     ]
    }
   ],
   "source": [
    "def make_arrays(nb_rows, img_size):\n",
    "  if nb_rows:\n",
    "    dataset = np.ndarray((nb_rows, img_size, img_size), dtype=np.float32)\n",
    "    labels = np.ndarray(nb_rows, dtype=np.int32)\n",
    "  else:\n",
    "    dataset, labels = None, None\n",
    "  return dataset, labels\n",
    "\n",
    "def merge_datasets(pickle_files, train_size, valid_size=0):\n",
    "  num_classes = len(pickle_files)\n",
    "  valid_dataset, valid_labels = make_arrays(valid_size, image_size)\n",
    "  train_dataset, train_labels = make_arrays(train_size, image_size)\n",
    "  vsize_per_class = valid_size // num_classes\n",
    "  tsize_per_class = train_size // num_classes\n",
    "    \n",
    "  start_v, start_t = 0, 0\n",
    "  end_v, end_t = vsize_per_class, tsize_per_class\n",
    "  end_l = vsize_per_class+tsize_per_class\n",
    "  for label, pickle_file in enumerate(pickle_files):       \n",
    "    try:\n",
    "      with open(pickle_file, 'rb') as f:\n",
    "        letter_set = pickle.load(f)\n",
    "        # let's shuffle the letters to have random validation and training set\n",
    "        np.random.shuffle(letter_set)\n",
    "        if valid_dataset is not None:\n",
    "          valid_letter = letter_set[:vsize_per_class, :, :]\n",
    "          valid_dataset[start_v:end_v, :, :] = valid_letter\n",
    "          valid_labels[start_v:end_v] = label\n",
    "          start_v += vsize_per_class\n",
    "          end_v += vsize_per_class\n",
    "                    \n",
    "        train_letter = letter_set[vsize_per_class:end_l, :, :]\n",
    "        train_dataset[start_t:end_t, :, :] = train_letter\n",
    "        train_labels[start_t:end_t] = label\n",
    "        start_t += tsize_per_class\n",
    "        end_t += tsize_per_class\n",
    "    except Exception as e:\n",
    "      print('Unable to process data from', pickle_file, ':', e)\n",
    "      raise\n",
    "    \n",
    "  return valid_dataset, valid_labels, train_dataset, train_labels\n",
    "            \n",
    "            \n",
    "train_size = 200000\n",
    "valid_size = 10000\n",
    "test_size = 10000\n",
    "\n",
    "valid_dataset, valid_labels, train_dataset, train_labels = merge_datasets(\n",
    "  train_datasets, train_size, valid_size)\n",
    "_, _, test_dataset, test_labels = merge_datasets(test_datasets, test_size)\n",
    "\n",
    "print('Training:', train_dataset.shape, train_labels.shape)\n",
    "print('Validation:', valid_dataset.shape, valid_labels.shape)\n",
    "print('Testing:', test_dataset.shape, test_labels.shape)"
   ]
  },
  {
   "cell_type": "code",
   "execution_count": 23,
   "metadata": {
    "collapsed": false
   },
   "outputs": [
    {
     "name": "stdout",
     "output_type": "stream",
     "text": [
      "train labels: {'B': 20000, 'F': 20000, 'D': 20000, 'J': 20000, 'I': 20000, 'E': 20000, 'A': 20000, 'C': 20000, 'H': 20000, 'G': 20000}\n",
      "valid labels: {'D': 1000, 'B': 1000, 'F': 1000, 'I': 1000, 'J': 1000, 'E': 1000, 'C': 1000, 'A': 1000, 'H': 1000, 'G': 1000}\n",
      "test labels: {'B': 1000, 'F': 1000, 'D': 1000, 'J': 1000, 'E': 1000, 'C': 1000, 'G': 1000, 'A': 1000, 'H': 1000, 'I': 1000}\n"
     ]
    }
   ],
   "source": [
    "print('train labels:', count_lables(train_labels))\n",
    "print('valid labels:', count_lables(valid_labels))\n",
    "print('test labels:', count_lables(test_labels))"
   ]
  },
  {
   "cell_type": "markdown",
   "metadata": {
    "colab_type": "text",
    "id": "GPTCnjIcyuKN"
   },
   "source": [
    "Next, we'll randomize the data. It's important to have the labels well shuffled for the training and test distributions to match."
   ]
  },
  {
   "cell_type": "code",
   "execution_count": 11,
   "metadata": {
    "cellView": "both",
    "colab": {
     "autoexec": {
      "startup": false,
      "wait_interval": 0
     }
    },
    "colab_type": "code",
    "collapsed": true,
    "id": "6WZ2l2tN2zOL"
   },
   "outputs": [],
   "source": [
    "def randomize(dataset, labels):\n",
    "  permutation = np.random.permutation(labels.shape[0])\n",
    "  shuffled_dataset = dataset[permutation,:,:]\n",
    "  shuffled_labels = labels[permutation]\n",
    "  return shuffled_dataset, shuffled_labels\n",
    "train_dataset, train_labels = randomize(train_dataset, train_labels)\n",
    "test_dataset, test_labels = randomize(test_dataset, test_labels)\n",
    "valid_dataset, valid_labels = randomize(valid_dataset, valid_labels)"
   ]
  },
  {
   "cell_type": "markdown",
   "metadata": {
    "colab_type": "text",
    "id": "puDUTe6t6USl"
   },
   "source": [
    "---\n",
    "Problem 4\n",
    "---------\n",
    "Convince yourself that the data is still good after shuffling!\n",
    "\n",
    "---"
   ]
  },
  {
   "cell_type": "code",
   "execution_count": 12,
   "metadata": {
    "collapsed": false
   },
   "outputs": [
    {
     "name": "stdout",
     "output_type": "stream",
     "text": [
      "train labels: {'B': 20000, 'F': 20000, 'D': 20000, 'J': 20000, 'I': 20000, 'E': 20000, 'A': 20000, 'C': 20000, 'H': 20000, 'G': 20000}\n",
      "valid labels: {'D': 1000, 'B': 1000, 'F': 1000, 'I': 1000, 'J': 1000, 'E': 1000, 'C': 1000, 'A': 1000, 'H': 1000, 'G': 1000}\n",
      "test labels: {'B': 1000, 'F': 1000, 'D': 1000, 'J': 1000, 'E': 1000, 'C': 1000, 'G': 1000, 'A': 1000, 'H': 1000, 'I': 1000}\n"
     ]
    }
   ],
   "source": [
    "print('train labels:', count_lables(train_labels))\n",
    "print('valid labels:', count_lables(valid_labels))\n",
    "print('test labels:', count_lables(test_labels))"
   ]
  },
  {
   "cell_type": "code",
   "execution_count": 13,
   "metadata": {
    "collapsed": false
   },
   "outputs": [
    {
     "name": "stdout",
     "output_type": "stream",
     "text": [
      "=============================================\n",
      "F\n"
     ]
    },
    {
     "data": {
      "image/png": "[encoded data removed]",
      "text/plain": [
       "<matplotlib.figure.Figure at 0x2566000ce10>"
      ]
     },
     "metadata": {},
     "output_type": "display_data"
    },
    {
     "name": "stdout",
     "output_type": "stream",
     "text": [
      "E\n"
     ]
    },
    {
     "data": {
      "image/png": "[encoded data removed]",
      "text/plain": [
       "<matplotlib.figure.Figure at 0x256600bacf8>"
      ]
     },
     "metadata": {},
     "output_type": "display_data"
    },
    {
     "name": "stdout",
     "output_type": "stream",
     "text": [
      "G\n"
     ]
    },
    {
     "data": {
      "image/png": "[encoded data removed]",
      "text/plain": [
       "<matplotlib.figure.Figure at 0x2565fec5b00>"
      ]
     },
     "metadata": {},
     "output_type": "display_data"
    },
    {
     "name": "stdout",
     "output_type": "stream",
     "text": [
      "=============================================\n",
      "H\n"
     ]
    },
    {
     "data": {
      "image/png": "[encoded data removed]",
      "text/plain": [
       "<matplotlib.figure.Figure at 0x2565fef9fd0>"
      ]
     },
     "metadata": {},
     "output_type": "display_data"
    },
    {
     "name": "stdout",
     "output_type": "stream",
     "text": [
      "C\n"
     ]
    },
    {
     "data": {
      "image/png": "[encoded data removed]",
      "text/plain": [
       "<matplotlib.figure.Figure at 0x2565fe56940>"
      ]
     },
     "metadata": {},
     "output_type": "display_data"
    },
    {
     "name": "stdout",
     "output_type": "stream",
     "text": [
      "B\n"
     ]
    },
    {
     "data": {
      "image/png": "[encoded data removed]",
      "text/plain": [
       "<matplotlib.figure.Figure at 0x2565fd7f358>"
      ]
     },
     "metadata": {},
     "output_type": "display_data"
    },
    {
     "name": "stdout",
     "output_type": "stream",
     "text": [
      "=============================================\n",
      "A\n"
     ]
    },
    {
     "data": {
      "image/png": "[encoded data removed]",
      "text/plain": [
       "<matplotlib.figure.Figure at 0x256600b1470>"
      ]
     },
     "metadata": {},
     "output_type": "display_data"
    },
    {
     "name": "stdout",
     "output_type": "stream",
     "text": [
      "B\n"
     ]
    },
    {
     "data": {
      "image/png": "[encoded data removed]",
      "text/plain": [
       "<matplotlib.figure.Figure at 0x2565fe0f748>"
      ]
     },
     "metadata": {},
     "output_type": "display_data"
    },
    {
     "name": "stdout",
     "output_type": "stream",
     "text": [
      "C\n"
     ]
    },
    {
     "data": {
      "image/png": "[encoded data removed]",
      "text/plain": [
       "<matplotlib.figure.Figure at 0x2565fe18860>"
      ]
     },
     "metadata": {},
     "output_type": "display_data"
    }
   ],
   "source": [
    "def show_data(dataset, labels, size=3):\n",
    "    print('=============================================')\n",
    "    for lbl, img_arr in zip(labels[:size], dataset[:size]):\n",
    "        print(map_dict[str(lbl)])\n",
    "        plt.figure(figsize=(1,1))\n",
    "        plt.imshow(img_arr)\n",
    "        plt.show()\n",
    "\n",
    "show_data(train_dataset, train_labels)\n",
    "show_data(test_dataset, test_labels)\n",
    "show_data(valid_dataset, valid_labels)"
   ]
  },
  {
   "cell_type": "markdown",
   "metadata": {
    "colab_type": "text",
    "id": "tIQJaJuwg5Hw"
   },
   "source": [
    "Finally, let's save the data for later reuse:"
   ]
  },
  {
   "cell_type": "code",
   "execution_count": 14,
   "metadata": {
    "cellView": "both",
    "colab": {
     "autoexec": {
      "startup": false,
      "wait_interval": 0
     }
    },
    "colab_type": "code",
    "collapsed": false,
    "id": "QiR_rETzem6C"
   },
   "outputs": [],
   "source": [
    "pickle_file = 'notMNIST.pickle'\n",
    "\n",
    "try:\n",
    "  f = open(pickle_file, 'wb')\n",
    "  save = {\n",
    "    'train_dataset': train_dataset,\n",
    "    'train_labels': train_labels,\n",
    "    'valid_dataset': valid_dataset,\n",
    "    'valid_labels': valid_labels,\n",
    "    'test_dataset': test_dataset,\n",
    "    'test_labels': test_labels,\n",
    "    }\n",
    "  pickle.dump(save, f, pickle.HIGHEST_PROTOCOL)\n",
    "  f.close()\n",
    "except Exception as e:\n",
    "  print('Unable to save data to', pickle_file, ':', e)\n",
    "  raise"
   ]
  },
  {
   "cell_type": "code",
   "execution_count": 15,
   "metadata": {
    "cellView": "both",
    "colab": {
     "autoexec": {
      "startup": false,
      "wait_interval": 0
     },
     "output_extras": [
      {
       "item_id": 1
      }
     ]
    },
    "colab_type": "code",
    "collapsed": false,
    "executionInfo": {
     "elapsed": 413065,
     "status": "ok",
     "timestamp": 1444485899688,
     "user": {
      "color": "#1FA15D",
      "displayName": "Vincent Vanhoucke",
      "isAnonymous": false,
      "isMe": true,
      "permissionId": "05076109866853157986",
      "photoUrl": "//lh6.googleusercontent.com/-cCJa7dTDcgQ/AAAAAAAAAAI/AAAAAAAACgw/r2EZ_8oYer4/s50-c-k-no/photo.jpg",
      "sessionId": "2a0a5e044bb03b66",
      "userId": "102167687554210253930"
     },
     "user_tz": 420
    },
    "id": "hQbLjrW_iT39",
    "outputId": "b440efc6-5ee1-4cbc-d02d-93db44ebd956"
   },
   "outputs": [
    {
     "name": "stdout",
     "output_type": "stream",
     "text": [
      "Compressed pickle size: 690800503\n"
     ]
    }
   ],
   "source": [
    "statinfo = os.stat(pickle_file)\n",
    "print('Compressed pickle size:', statinfo.st_size)"
   ]
  },
  {
   "cell_type": "code",
   "execution_count": 4,
   "metadata": {
    "collapsed": true
   },
   "outputs": [],
   "source": [
    "bins_size = 28 * 4\n",
    "\n",
    "def calc_histogram(dataset, bins = bins_size):\n",
    "    start_time = time.clock()\n",
    "    hist_list = []\n",
    "    for item in dataset:\n",
    "        hist = np.histogram(item, bins=bins)\n",
    "        hist_list.append(hist[0])\n",
    "    end_time = time.clock()\n",
    "    return (hist_list, timedelta(seconds=end_time - start_time))"
   ]
  },
  {
   "cell_type": "code",
   "execution_count": 120,
   "metadata": {
    "collapsed": false
   },
   "outputs": [
    {
     "name": "stdout",
     "output_type": "stream",
     "text": [
      "Histograms for train dataset calculates in 0:00:22.258678\n",
      "Histograms for validation dataset calculates in 0:00:01.116859\n",
      "Histograms for test dataset calculates in 0:00:01.116659\n"
     ]
    }
   ],
   "source": [
    "train_histogram, calc_duration = calc_histogram(train_dataset, bins_size)\n",
    "print('Histograms for train dataset calculates in', calc_duration)\n",
    "valid_histogram, calc_duration = calc_histogram(valid_dataset, bins_size)\n",
    "print('Histograms for validation dataset calculates in', calc_duration)\n",
    "test_histogram, calc_duration = calc_histogram(test_dataset, bins_size)\n",
    "print('Histograms for test dataset calculates in', calc_duration)"
   ]
  },
  {
   "cell_type": "code",
   "execution_count": 121,
   "metadata": {
    "collapsed": false
   },
   "outputs": [
    {
     "name": "stdout",
     "output_type": "stream",
     "text": [
      "Compressed histograms pickle size: 204408510\n"
     ]
    }
   ],
   "source": [
    "pickle_hist_file = 'notMNIST.hist.pickle'\n",
    "\n",
    "try:\n",
    "  f = open(pickle_hist_file, 'wb')\n",
    "  save = {\n",
    "    'train_histogram': train_histogram,\n",
    "    'valid_histogram': valid_histogram,\n",
    "    'test_histogram': test_histogram,\n",
    "    }\n",
    "  pickle.dump(save, f, pickle.HIGHEST_PROTOCOL)\n",
    "  f.close()\n",
    "except Exception as e:\n",
    "  print('Unable to save data to', pickle_hist_file, ':', e)\n",
    "  raise\n",
    "statinfo = os.stat(pickle_hist_file)\n",
    "print('Compressed histograms pickle size:', statinfo.st_size)"
   ]
  },
  {
   "cell_type": "markdown",
   "metadata": {
    "colab_type": "text",
    "id": "gE_cRAQB33lk"
   },
   "source": [
    "---\n",
    "Problem 5\n",
    "---------\n",
    "\n",
    "By construction, this dataset might contain a lot of overlapping samples, including training data that's also contained in the validation and test set! Overlap between training and test can skew the results if you expect to use your model in an environment where there is never an overlap, but are actually ok if you expect to see training samples recur when you use it.\n",
    "Measure how much overlap there is between training, validation and test samples.\n",
    "\n",
    "Optional questions:\n",
    "- What about near duplicates between datasets? (images that are almost identical)\n",
    "- Create a sanitized validation and test set, and compare your accuracy on those in subsequent assignments.\n",
    "---"
   ]
  },
  {
   "cell_type": "code",
   "execution_count": 2,
   "metadata": {
    "collapsed": false
   },
   "outputs": [
    {
     "name": "stdout",
     "output_type": "stream",
     "text": [
      "Training: (200000, 28, 28) (200000,)\n",
      "Validation: (10000, 28, 28) (10000,)\n",
      "Testing: (10000, 28, 28) (10000,)\n",
      "Training histogram: 200000\n",
      "Validation histogram: 10000\n",
      "Testing histogram: 10000\n"
     ]
    }
   ],
   "source": [
    "pickle_file = 'notMNIST.pickle'\n",
    "pickle_hist_file = 'notMNIST.hist.pickle'\n",
    "try:\n",
    "    with open(pickle_file, 'rb') as f:\n",
    "        save = pickle.load(f)\n",
    "    train_dataset = save['train_dataset']\n",
    "    train_labels = save['train_labels']\n",
    "    valid_dataset = save['valid_dataset']\n",
    "    valid_labels = save['valid_labels']\n",
    "    test_dataset = save['test_dataset']\n",
    "    test_labels = save['test_labels']\n",
    "    print('Training:', train_dataset.shape, train_labels.shape)\n",
    "    print('Validation:', valid_dataset.shape, valid_labels.shape)\n",
    "    print('Testing:', test_dataset.shape, test_labels.shape)\n",
    "except Exception as e:\n",
    "  print('Unable to load full dataset to', pickle_file, ':', e)\n",
    "  raise\n",
    "\n",
    "try:\n",
    "    with open(pickle_hist_file, 'rb') as f:\n",
    "        save = pickle.load(f)\n",
    "    train_histogram = save['train_histogram']\n",
    "    valid_histogram = save['valid_histogram']\n",
    "    test_histogram = save['test_histogram']\n",
    "    print('Training histogram:', len(train_histogram))\n",
    "    print('Validation histogram:', len(valid_histogram))\n",
    "    print('Testing histogram:', len(test_histogram))\n",
    "except Exception as e:\n",
    "  print('Unable to load full dataset to', pickle_file, ':', e)\n",
    "  raise"
   ]
  },
  {
   "cell_type": "code",
   "execution_count": 50,
   "metadata": {
    "collapsed": false
   },
   "outputs": [],
   "source": [
    "x = np.array(range(bins_size))\n",
    "\n",
    "def draw_images(label, a_arr, b_arr):\n",
    "    f, (ax1, ax2, ax3, ax4) = plt.subplots(1, 4, figsize=(8, 1))\n",
    "    h_a = np.histogram(a_arr, bins=bins_size)\n",
    "    h_b = np.histogram(b_arr, bins=bins_size)\n",
    "    ax1.imshow(a_arr)\n",
    "    ax1.set_title('Label: ' + label)\n",
    "    ax2.bar(x, h_a[0])\n",
    "    ax3.imshow(b_arr)\n",
    "    ax4.bar(x, h_b[0])\n",
    "    plt.show()\n",
    "            \n",
    "def is_equal_comparison(a_arr, b_arr):\n",
    "    return (a_arr==b_arr).all()\n",
    "\n",
    "def euclidean_distance(a_arr, b_arr): \n",
    "    '''Euclidean distance without the sqrt'''\n",
    "    return np.sum(np.power(a_arr - b_arr, 2))\n",
    "\n",
    "def manhattan_distance(a_arr, b_arr):\n",
    "    return np.sum(np.absolute(a_arr - b_arr))\n",
    "\n",
    "def count_duplication(counters, lbl, idxA, idxB):\n",
    "    str_lbl = get_char_by_lbl(lbl)\n",
    "    if str_lbl not in counters:\n",
    "        counters[str_lbl] = {}\n",
    "        counters[str_lbl]['counter'] = 0\n",
    "    counters[str_lbl]['counter'] += 1\n",
    "    if str(idxA) not in counters[str_lbl]:\n",
    "        counters[str_lbl][str(idxA)] = []\n",
    "    counters[str_lbl][str(idxA)].append(idxB)\n",
    "\n",
    "def count_equal_hist(label_lst_A, hist_lst_A, label_lst_B, hist_lst_B, distance_threshold=0):\n",
    "    start_time = time.clock()\n",
    "    counters = {}\n",
    "    for idxA, lblA in enumerate(label_lst_A):\n",
    "        for idxB, lblB in enumerate(label_lst_B):\n",
    "            if lblA == lblB:\n",
    "                histA = hist_lst_A[idxA]\n",
    "                histB = hist_lst_B[idxB]\n",
    "                if distance_threshold == 0 and is_equal_comparison(histA, histB):\n",
    "                    count_duplication(counters, lblA, idxA, idxB)\n",
    "                if distance_threshold > 0 and distance_threshold >= manhattan_distance(histA, histB) > 0:\n",
    "                    count_duplication(counters, lblA, idxA, idxB)\n",
    "    end_time = time.clock()\n",
    "    return (counters, timedelta(seconds=end_time - start_time))\n",
    "\n",
    "def display_overlap(counters):\n",
    "    key_lst = sorted(counters.keys())\n",
    "    total = 0\n",
    "    for key in key_lst:\n",
    "        total += counters[key]['counter']\n",
    "        print('Label {0}: {1}'.format(key, counters[key]['counter']))\n",
    "    print('Total:', total)\n"
   ]
  },
  {
   "cell_type": "code",
   "execution_count": 116,
   "metadata": {
    "collapsed": true
   },
   "outputs": [],
   "source": [
    "distance_overlapping = 50"
   ]
  },
  {
   "cell_type": "code",
   "execution_count": 107,
   "metadata": {
    "collapsed": false
   },
   "outputs": [
    {
     "name": "stdout",
     "output_type": "stream",
     "text": [
      "Overlapping between train and validation datasets counted in 0:18:14.342132\n",
      "Label A: 94\n",
      "Label B: 146\n",
      "Label C: 110\n",
      "Label D: 97\n",
      "Label E: 129\n",
      "Label F: 126\n",
      "Label G: 101\n",
      "Label H: 154\n",
      "Label I: 1302\n",
      "Label J: 122\n",
      "Total: 2381\n"
     ]
    }
   ],
   "source": [
    "overlap_train_valid, count_duration = count_equal_data(train_labels, train_histogram,\n",
    "                                                        valid_labels, valid_histogram)\n",
    "print('Overlapping between train and validation datasets counted in', count_duration)\n",
    "display_overlap(overlap_train_valid)"
   ]
  },
  {
   "cell_type": "code",
   "execution_count": 108,
   "metadata": {
    "collapsed": false
   },
   "outputs": [
    {
     "name": "stdout",
     "output_type": "stream",
     "text": [
      "Overlapping between train and validation datasets (with distance) counted in 0:25:24.847459\n",
      "Label A: 20\n",
      "Label B: 28\n",
      "Label C: 14\n",
      "Label D: 17\n",
      "Label E: 23\n",
      "Label F: 30\n",
      "Label G: 11\n",
      "Label H: 62\n",
      "Label I: 964\n",
      "Label J: 26\n",
      "Total: 1195\n"
     ]
    }
   ],
   "source": [
    "overlap_train_valid_distance, count_duration = count_equal_data(train_labels, train_histogram,\n",
    "                                                                valid_labels, valid_histogram,\n",
    "                                                                distance_overlapping)\n",
    "print('Overlapping between train and validation datasets (with distance) counted in', count_duration)\n",
    "display_overlap(overlap_train_valid_distance)"
   ]
  },
  {
   "cell_type": "code",
   "execution_count": 109,
   "metadata": {
    "collapsed": false
   },
   "outputs": [
    {
     "name": "stdout",
     "output_type": "stream",
     "text": [
      "Overlapping between train and validation datasets counted in 0:18:24.155693\n",
      "Label A: 134\n",
      "Label B: 137\n",
      "Label C: 145\n",
      "Label D: 113\n",
      "Label E: 119\n",
      "Label F: 165\n",
      "Label G: 137\n",
      "Label H: 182\n",
      "Label I: 1347\n",
      "Label J: 125\n",
      "Total: 2604\n"
     ]
    }
   ],
   "source": [
    "overlap_train_test, count_duration = count_equal_data(train_labels, train_histogram,\n",
    "                                                        test_labels, test_histogram)\n",
    "print('Overlapping between train and validation datasets counted in', count_duration)\n",
    "display_overlap(overlap_train_test)"
   ]
  },
  {
   "cell_type": "code",
   "execution_count": 110,
   "metadata": {
    "collapsed": false
   },
   "outputs": [
    {
     "name": "stdout",
     "output_type": "stream",
     "text": [
      "Overlapping between train and validation datasets (with distance) counted in 0:25:34.896381\n",
      "Label A: 4\n",
      "Label B: 3\n",
      "Label C: 1\n",
      "Label D: 3\n",
      "Label E: 2\n",
      "Label F: 5\n",
      "Label G: 3\n",
      "Label H: 16\n",
      "Label I: 63\n",
      "Label J: 2\n",
      "Total: 102\n"
     ]
    }
   ],
   "source": [
    "overlap_train_test_distance, count_duration = count_equal_data(train_labels, train_histogram,\n",
    "                                                        test_labels, valid_histogram,\n",
    "                                                           distance_overlapping)\n",
    "print('Overlapping between train and validation datasets (with distance) counted in', count_duration)\n",
    "display_overlap(overlap_train_test_distance)"
   ]
  },
  {
   "cell_type": "code",
   "execution_count": 111,
   "metadata": {
    "collapsed": false
   },
   "outputs": [
    {
     "name": "stdout",
     "output_type": "stream",
     "text": [
      "Counting overlapping between validation and test datasets in 0:00:55.316327\n",
      "Label A: 5\n",
      "Label B: 7\n",
      "Label C: 10\n",
      "Label D: 9\n",
      "Label E: 11\n",
      "Label F: 3\n",
      "Label G: 11\n",
      "Label H: 6\n",
      "Label I: 77\n",
      "Label J: 8\n",
      "Total: 147\n"
     ]
    }
   ],
   "source": [
    "overlap_valid_test, count_duration = count_equal_data(valid_labels, valid_histogram,\n",
    "                                                        test_labels, test_histogram)\n",
    "print('Counting overlapping between validation and test datasets in', count_duration)\n",
    "display_overlap(overlap_valid_test)"
   ]
  },
  {
   "cell_type": "code",
   "execution_count": 112,
   "metadata": {
    "collapsed": false
   },
   "outputs": [
    {
     "name": "stdout",
     "output_type": "stream",
     "text": [
      "Counting overlapping between validation and test datasets (with distance) in 0:01:16.646290\n",
      "Label A: 1\n",
      "Label D: 3\n",
      "Label E: 3\n",
      "Label H: 8\n",
      "Label I: 36\n",
      "Label J: 1\n",
      "Total: 52\n"
     ]
    }
   ],
   "source": [
    "overlap_valid_test_distance, count_duration = count_equal_data(valid_labels, valid_histogram,\n",
    "                                                                test_labels, test_histogram,\n",
    "                                                                distance_overlapping)\n",
    "print('Counting overlapping between validation and test datasets (with distance) in', count_duration)\n",
    "display_overlap(overlap_valid_test_distance)"
   ]
  },
  {
   "cell_type": "code",
   "execution_count": 101,
   "metadata": {
    "collapsed": false
   },
   "outputs": [
    {
     "data": {
      "text/plain": [
       "{'A': {'1713': [2391], 'counter': 1},\n",
       " 'D': {'284': [9535], '8238': [3469], '9937': [7358], 'counter': 3},\n",
       " 'E': {'1299': [2207], '3401': [5864], '9997': [9100], 'counter': 3},\n",
       " 'H': {'1084': [9460],\n",
       "  '3456': [6700],\n",
       "  '3650': [7782],\n",
       "  '8345': [2050],\n",
       "  '8914': [3606],\n",
       "  '9087': [6285],\n",
       "  '959': [1793],\n",
       "  '9893': [2429],\n",
       "  'counter': 8},\n",
       " 'I': {'1734': [7251, 8480],\n",
       "  '195': [7251, 8480],\n",
       "  '2171': [7251, 8480],\n",
       "  '3841': [7251, 8441, 8480],\n",
       "  '4787': [7251, 8480],\n",
       "  '5624': [7251, 8480],\n",
       "  '6448': [436, 5521, 5727],\n",
       "  '6538': [1181, 2755, 5271, 5853, 7251, 8480, 9154],\n",
       "  '7479': [1181, 2755, 5271, 5853, 7251, 8480, 9154],\n",
       "  '8772': [7251, 8441, 8480],\n",
       "  '9134': [8441],\n",
       "  '9244': [9377],\n",
       "  '9592': [8441],\n",
       "  'counter': 36},\n",
       " 'J': {'6999': [2894], 'counter': 1}}"
      ]
     },
     "execution_count": 101,
     "metadata": {},
     "output_type": "execute_result"
    }
   ],
   "source": [
    "overlap_valid_test_distance"
   ]
  },
  {
   "cell_type": "code",
   "execution_count": 102,
   "metadata": {
    "collapsed": false
   },
   "outputs": [
    {
     "data": {
      "image/png": "[encoded data removed]",
      "text/plain": [
       "<matplotlib.figure.Figure at 0x2565ff6bba8>"
      ]
     },
     "metadata": {},
     "output_type": "display_data"
    }
   ],
   "source": [
    "draw_images('D', valid_dataset[284], test_dataset[9535])"
   ]
  },
  {
   "cell_type": "code",
   "execution_count": 73,
   "metadata": {
    "collapsed": false
   },
   "outputs": [
    {
     "data": {
      "text/plain": [
       "228.68698"
      ]
     },
     "execution_count": 73,
     "metadata": {},
     "output_type": "execute_result"
    }
   ],
   "source": [
    "euclidean_distance(valid_dataset[8], test_dataset[3660])"
   ]
  },
  {
   "cell_type": "code",
   "execution_count": 74,
   "metadata": {
    "collapsed": false
   },
   "outputs": [
    {
     "data": {
      "text/plain": [
       "272.42352"
      ]
     },
     "execution_count": 74,
     "metadata": {},
     "output_type": "execute_result"
    }
   ],
   "source": [
    "manhattan_distance(valid_dataset[8], test_dataset[3660])"
   ]
  },
  {
   "cell_type": "code",
   "execution_count": 103,
   "metadata": {
    "collapsed": true
   },
   "outputs": [],
   "source": [
    "hist_A = np.histogram(valid_dataset[284], bins=bins_size)\n",
    "hist_B = np.histogram(test_dataset[9535], bins=bins_size)"
   ]
  },
  {
   "cell_type": "code",
   "execution_count": 104,
   "metadata": {
    "collapsed": false
   },
   "outputs": [
    {
     "data": {
      "text/plain": [
       "8"
      ]
     },
     "execution_count": 104,
     "metadata": {},
     "output_type": "execute_result"
    }
   ],
   "source": [
    "euclidean_distance(hist_A[0], hist_B[0])"
   ]
  },
  {
   "cell_type": "code",
   "execution_count": 105,
   "metadata": {
    "collapsed": false
   },
   "outputs": [
    {
     "data": {
      "text/plain": [
       "8"
      ]
     },
     "execution_count": 105,
     "metadata": {},
     "output_type": "execute_result"
    }
   ],
   "source": [
    "manhattan_distance(hist_A[0], hist_B[0])"
   ]
  },
  {
   "cell_type": "code",
   "execution_count": 117,
   "metadata": {
    "collapsed": false
   },
   "outputs": [
    {
     "name": "stdout",
     "output_type": "stream",
     "text": [
      "Validation histograms for 7 bins. Time 0:00:01.115147\n",
      "Test histograms for 7 bins. Time 0:00:01.113494\n",
      "Counting overlapping between validation and test datasets in 0:00:53.366928\n",
      "Label A: 5\n",
      "Label B: 7\n",
      "Label C: 10\n",
      "Label D: 11\n",
      "Label E: 11\n",
      "Label F: 3\n",
      "Label G: 11\n",
      "Label H: 8\n",
      "Label I: 203\n",
      "Label J: 9\n",
      "Total: 278\n",
      "Counting overlapping between validation and test datasets (with distance) in 0:01:15.590197\n",
      "Label A: 27543\n",
      "Label B: 10299\n",
      "Label C: 36819\n",
      "Label D: 11587\n",
      "Label E: 4554\n",
      "Label F: 7473\n",
      "Label G: 19705\n",
      "Label H: 5974\n",
      "Label I: 8273\n",
      "Label J: 18535\n",
      "Total: 150762\n",
      "=============================================================================================\n",
      "Validation histograms for 28 bins. Time 0:00:01.125957\n",
      "Test histograms for 28 bins. Time 0:00:01.109607\n",
      "Counting overlapping between validation and test datasets in 0:00:54.082757\n",
      "Label A: 5\n",
      "Label B: 7\n",
      "Label C: 10\n",
      "Label D: 9\n",
      "Label E: 11\n",
      "Label F: 3\n",
      "Label G: 11\n",
      "Label H: 6\n",
      "Label I: 140\n",
      "Label J: 9\n",
      "Total: 211\n",
      "Counting overlapping between validation and test datasets (with distance) in 0:01:14.840965\n",
      "Label A: 49\n",
      "Label B: 7\n",
      "Label C: 130\n",
      "Label D: 16\n",
      "Label E: 4\n",
      "Label F: 10\n",
      "Label G: 8\n",
      "Label H: 16\n",
      "Label I: 297\n",
      "Label J: 278\n",
      "Total: 815\n",
      "=============================================================================================\n",
      "Validation histograms for 56 bins. Time 0:00:01.098822\n",
      "Test histograms for 56 bins. Time 0:00:01.105283\n",
      "Counting overlapping between validation and test datasets in 0:00:54.564349\n",
      "Label A: 5\n",
      "Label B: 7\n",
      "Label C: 10\n",
      "Label D: 9\n",
      "Label E: 11\n",
      "Label F: 3\n",
      "Label G: 11\n",
      "Label H: 6\n",
      "Label I: 77\n",
      "Label J: 8\n",
      "Total: 147\n",
      "Counting overlapping between validation and test datasets (with distance) in 0:01:15.636779\n",
      "Label A: 1\n",
      "Label D: 3\n",
      "Label E: 3\n",
      "Label H: 8\n",
      "Label I: 36\n",
      "Label J: 1\n",
      "Total: 52\n",
      "=============================================================================================\n",
      "Validation histograms for 112 bins. Time 0:00:01.125516\n",
      "Test histograms for 112 bins. Time 0:00:01.114615\n",
      "Counting overlapping between validation and test datasets in 0:00:56.118405\n",
      "Label A: 5\n",
      "Label B: 7\n",
      "Label C: 10\n",
      "Label D: 9\n",
      "Label E: 11\n",
      "Label F: 3\n",
      "Label G: 11\n",
      "Label H: 6\n",
      "Label I: 54\n",
      "Label J: 8\n",
      "Total: 124\n",
      "Counting overlapping between validation and test datasets (with distance) in 0:01:17.762344\n",
      "Label D: 3\n",
      "Label E: 2\n",
      "Label H: 6\n",
      "Label I: 27\n",
      "Label J: 1\n",
      "Total: 39\n",
      "=============================================================================================\n"
     ]
    }
   ],
   "source": [
    "bins_list = [7, 28, 56, 112]\n",
    "for bins_item in bins_list:\n",
    "    valid_histogram, calc_duration = calc_histogram(valid_dataset, bins_item)\n",
    "    print('Validation histograms for {0} bins. Time {1}'.format(bins_item, calc_duration))\n",
    "    test_histogram, calc_duration = calc_histogram(test_dataset, bins_item)\n",
    "    print('Test histograms for {0} bins. Time {1}'.format(bins_item, calc_duration))\n",
    "    overlap_valid_test, count_duration = count_equal_data(valid_labels, valid_histogram,\n",
    "                                                        test_labels, test_histogram)\n",
    "    print('Counting overlapping between validation and test datasets in', count_duration)\n",
    "    display_overlap(overlap_valid_test)\n",
    "    overlap_valid_test_distance, count_duration = count_equal_data(valid_labels, valid_histogram,\n",
    "                                                                test_labels, test_histogram,\n",
    "                                                                distance_overlapping)\n",
    "    print('Counting overlapping between validation and test datasets (with distance) in', count_duration)\n",
    "    display_overlap(overlap_valid_test_distance)\n",
    "    print('=============================================================================================')"
   ]
  },
  {
   "cell_type": "code",
   "execution_count": 108,
   "metadata": {
    "collapsed": true
   },
   "outputs": [],
   "source": [
    "idx_idx = 0\n",
    "lbl_idx = 1\n",
    "data_idx = 2\n",
    "\n",
    "def count_equal_data(label_lst_A, data_lst_A, label_lst_B, data_lst_B, distance_threshold=0):\n",
    "    start_time = time.clock()\n",
    "    counters = {}\n",
    "    for idxA, lblA in enumerate(label_lst_A):\n",
    "        for idxB, lblB in enumerate(label_lst_B):\n",
    "            if lblA == lblB:\n",
    "                itemA = data_lst_A[idxA]\n",
    "                itemB = data_lst_B[idxB]\n",
    "                if distance_threshold == 0 and is_equal_comparison(itemA, itemB):\n",
    "                    count_duplication(counters, lblA, idxA, idxB)\n",
    "                if distance_threshold > 0 and distance_threshold >= manhattan_distance(itemA, itemB) > 0:\n",
    "                    count_duplication(counters, lblA, idxA, idxB)\n",
    "    end_time = time.clock()\n",
    "    return (counters, timedelta(seconds=end_time - start_time))\n",
    "\n",
    "def count_equal_tuples(tuple_lst_A, tuple_lst_B, distance_threshold=0, min_distance_threshold = 0):\n",
    "    counters = {}\n",
    "    for item_A in tuple_lst_A:\n",
    "        for item_B in tuple_lst_B:\n",
    "            if item_A[lbl_idx] == item_B[lbl_idx]:\n",
    "                if distance_threshold == 0 and is_equal_comparison(item_A[data_idx], item_B[data_idx]):\n",
    "                    count_duplication(counters, item_A[lbl_idx], item_A[idx_idx], item_B[idx_idx])\n",
    "                if distance_threshold > 0 and distance_threshold >= manhattan_distance(item_A[data_idx], item_B[data_idx]) > min_distance_threshold:\n",
    "                    count_duplication(counters, item_A[lbl_idx], item_A[idx_idx], item_B[idx_idx])\n",
    "    return counters"
   ]
  },
  {
   "cell_type": "code",
   "execution_count": 91,
   "metadata": {
    "collapsed": false
   },
   "outputs": [],
   "source": [
    "def wrap_tuples(labels, dataset):\n",
    "    result = []\n",
    "    for idx, item in enumerate(zip(labels, dataset)):\n",
    "        result.append((idx, item[0], item[1]))\n",
    "    return result"
   ]
  },
  {
   "cell_type": "code",
   "execution_count": 92,
   "metadata": {
    "collapsed": false
   },
   "outputs": [
    {
     "name": "stdout",
     "output_type": "stream",
     "text": [
      "Labels and data sets to tuples time: 0:00:00.153296\n"
     ]
    }
   ],
   "source": [
    "start_time = time.clock()\n",
    "train_tuple_lst = wrap_tuples(train_labels, train_dataset)\n",
    "valid_tuple_lst = wrap_tuples(valid_labels, valid_dataset)\n",
    "test_tuple_lst = wrap_tuples(test_labels, test_dataset)\n",
    "end_time = time.clock()\n",
    "print('Labels and data sets to tuples time:', timedelta(seconds=end_time - start_time))"
   ]
  },
  {
   "cell_type": "code",
   "execution_count": 75,
   "metadata": {
    "collapsed": true
   },
   "outputs": [],
   "source": [
    "# def build_async_handler()\n",
    "distance_overlapping = 10"
   ]
  },
  {
   "cell_type": "code",
   "execution_count": 94,
   "metadata": {
    "collapsed": false
   },
   "outputs": [
    {
     "name": "stdout",
     "output_type": "stream",
     "text": [
      "Counting overlapping between validation and test datasets in 0:00:02.939753\n",
      "Label D: 1\n",
      "Label I: 2\n",
      "Label J: 1\n",
      "Total: 4\n"
     ]
    }
   ],
   "source": [
    "overlap_valid_test, count_duration = count_equal_data(valid_labels[:2000], valid_dataset[:2000],\n",
    "                                                        test_labels[:2000], test_dataset[:2000])\n",
    "print('Counting overlapping between validation and test datasets in', count_duration)\n",
    "display_overlap(overlap_valid_test)"
   ]
  },
  {
   "cell_type": "code",
   "execution_count": 95,
   "metadata": {
    "collapsed": false
   },
   "outputs": [
    {
     "name": "stdout",
     "output_type": "stream",
     "text": [
      "Counting overlapping between validation and test datasets in 0:00:02.695945\n",
      "Label D: 1\n",
      "Label I: 2\n",
      "Label J: 1\n",
      "Total: 4\n"
     ]
    }
   ],
   "source": [
    "start_time = time.clock()\n",
    "overlap_valid_test = count_equal_tuples(valid_tuple_lst[:2000], test_tuple_lst[:2000])\n",
    "end_time = time.clock()\n",
    "duration = timedelta(seconds=end_time - start_time)\n",
    "print('Counting overlapping between validation and test datasets in', duration)\n",
    "display_overlap(overlap_valid_test)"
   ]
  },
  {
   "cell_type": "code",
   "execution_count": 109,
   "metadata": {
    "collapsed": false
   },
   "outputs": [
    {
     "name": "stdout",
     "output_type": "stream",
     "text": [
      "Counting overlapping between validation and test datasets in 0:00:05.115977\n",
      "Label A: 371\n",
      "Label B: 296\n",
      "Label C: 1065\n",
      "Label D: 469\n",
      "Label E: 186\n",
      "Label F: 394\n",
      "Label G: 243\n",
      "Label H: 390\n",
      "Label I: 799\n",
      "Label J: 437\n",
      "Total: 4650\n"
     ]
    }
   ],
   "source": [
    "start_time = time.clock()\n",
    "overlap_valid_test = count_equal_tuples(valid_tuple_lst[:2000], test_tuple_lst[:2000], 100, 80)\n",
    "end_time = time.clock()\n",
    "duration = timedelta(seconds=end_time - start_time)\n",
    "print('Counting overlapping between validation and test datasets in', duration)\n",
    "display_overlap(overlap_valid_test)"
   ]
  },
  {
   "cell_type": "code",
   "execution_count": 111,
   "metadata": {
    "collapsed": false
   },
   "outputs": [
    {
     "data": {
      "image/png": "[encoded data removed]",
      "text/plain": [
       "<matplotlib.figure.Figure at 0x17d65f02b38>"
      ]
     },
     "metadata": {},
     "output_type": "display_data"
    }
   ],
   "source": [
    "draw_images('G', valid_dataset[13], test_dataset[356])"
   ]
  },
  {
   "cell_type": "code",
   "execution_count": 112,
   "metadata": {
    "collapsed": false
   },
   "outputs": [
    {
     "data": {
      "text/plain": [
       "89.980392"
      ]
     },
     "execution_count": 112,
     "metadata": {},
     "output_type": "execute_result"
    }
   ],
   "source": [
    "manhattan_distance(valid_dataset[13], test_dataset[356])"
   ]
  },
  {
   "cell_type": "code",
   "execution_count": 4,
   "metadata": {
    "collapsed": false
   },
   "outputs": [],
   "source": [
    "from ipyparallel import require\n",
    "bins_size = 28 * 4\n",
    "@require('numpy as np')\n",
    "def calc_item_histogram(item, bins = bins_size):\n",
    "    hist = np.histogram(item, bins=bins)\n",
    "    return hist[0]"
   ]
  },
  {
   "cell_type": "code",
   "execution_count": 144,
   "metadata": {
    "collapsed": false
   },
   "outputs": [],
   "source": [
    "from ipyparallel import require\n",
    "def count_equal_tuples(tuple_lst_A, tuple_lst_B, distance_threshold=0, min_distance_threshold = 0):\n",
    "    counters = {}\n",
    "    for item_A in tuple_lst_A:\n",
    "        for item_B in tuple_lst_B:\n",
    "            if item_A[lbl_idx] == item_B[lbl_idx]:\n",
    "                if distance_threshold == 0 and is_equal_comparison(item_A[data_idx], item_B[data_idx]):\n",
    "                    count_duplication(counters, item_A[lbl_idx], item_A[idx_idx], item_B[idx_idx])\n",
    "                if distance_threshold > 0 and distance_threshold >= manhattan_distance(item_A[data_idx], item_B[data_idx]) > min_distance_threshold:\n",
    "                    count_duplication(counters, item_A[lbl_idx], item_A[idx_idx], item_B[idx_idx])\n",
    "    return counters\n",
    "\n",
    "map_dict = {'0': 'A', '1': 'B', '2': 'C', '3': 'D', '4': 'E', '5': 'F', '6': 'G', '7': 'H', '8': 'I', '9': 'J', }\n",
    "\n",
    "def get_char_by_lbl(lbl):\n",
    "    result = map_dict[str(lbl)]\n",
    "    return result\n",
    "\n",
    "@require(get_char_by_lbl)\n",
    "def count_duplication(counters, lbl, idxA, idxB):\n",
    "    str_lbl = get_char_by_lbl(lbl)\n",
    "    if str_lbl not in counters:\n",
    "        counters[str_lbl] = {}\n",
    "        counters[str_lbl]['counter'] = 0\n",
    "    counters[str_lbl]['counter'] += 1\n",
    "    if str(idxA) not in counters[str_lbl]:\n",
    "        counters[str_lbl][str(idxA)] = []\n",
    "    counters[str_lbl][str(idxA)].append(idxB)\n",
    "\n",
    "@require(is_equal_comparison, count_duplication, manhattan_distance)\n",
    "def item_acync_handler():\n",
    "    idx_idx = 0\n",
    "    lbl_idx = 1\n",
    "    data_idx = 2\n",
    "    for item_A in tuple_lst_A:\n",
    "        for item_B in tuple_lst_B:\n",
    "            if item_A[lbl_idx] == item_B[lbl_idx]:\n",
    "                if distance_threshold == 0 and is_equal_comparison(item_A[data_idx], item_B[data_idx]):\n",
    "                    count_duplication(counters, item_A[lbl_idx], item_A[idx_idx], item_B[idx_idx])\n",
    "                if distance_threshold > 0 and distance_threshold >= manhattan_distance(item_A[data_idx], item_B[data_idx]) > min_distance_threshold:\n",
    "                    count_duplication(counters, item_A[lbl_idx], item_A[idx_idx], item_B[idx_idx])\n",
    "                \n",
    "def reduce_counters(counters_lst):\n",
    "    result = {}\n",
    "    for counters in counters_lst:\n",
    "        for letter_key, item in counters.items():\n",
    "            if letter_key not in result:\n",
    "                result[letter_key] = {'counter': 0}\n",
    "            for key, value in item.items():\n",
    "                if key == 'counter':\n",
    "                    result[letter_key][key] += value\n",
    "                elif key not in result[letter_key]:\n",
    "                    result[letter_key][key] = value\n",
    "                else:\n",
    "                    for idx in value:\n",
    "                        result[letter_key][key].append(idx)\n",
    "    return result\n",
    "    \n",
    "    "
   ]
  },
  {
   "cell_type": "code",
   "execution_count": 152,
   "metadata": {
    "collapsed": false
   },
   "outputs": [
    {
     "name": "stdout",
     "output_type": "stream",
     "text": [
      "Counting overlapping between validation and test datasets in 0:00:19.987859\n",
      "Label A: 5\n",
      "Label B: 7\n",
      "Label C: 10\n",
      "Label D: 9\n",
      "Label E: 11\n",
      "Label F: 3\n",
      "Label G: 11\n",
      "Label H: 6\n",
      "Label I: 8\n",
      "Label J: 8\n",
      "Total: 78\n"
     ]
    }
   ],
   "source": [
    "from ipyparallel import Client\n",
    "start_time = time.clock()\n",
    "rc = Client()\n",
    "dview = rc[:]\n",
    "# lview = rc.load_balanced_view()\n",
    "# lview.block = True\n",
    "dview.push(dict(tuple_lst_B = test_tuple_lst, map_dict=map_dict)) #['tuple_lst_B'] = test_tuple_lst\n",
    "dview['distance_threshold'] = 0\n",
    "dview['min_distance_threshold'] = 0\n",
    "dview['counters'] = {}\n",
    "dview.scatter('tuple_lst_A', valid_tuple_lst)\n",
    "# lview.map(item_acync_handler, valid_tuple_lst)\n",
    "# lview.apply(item_acync_handler)\n",
    "dview.block=True\n",
    "dview.apply(item_acync_handler)\n",
    "overlap_valid_test = reduce_counters(dview['counters'])\n",
    "end_time = time.clock()\n",
    "duration = timedelta(seconds=end_time - start_time)\n",
    "print('Counting overlapping between validation and test datasets in', duration)\n",
    "display_overlap(overlap_valid_test)"
   ]
  },
  {
   "cell_type": "code",
   "execution_count": 138,
   "metadata": {
    "collapsed": false
   },
   "outputs": [
    {
     "name": "stdout",
     "output_type": "stream",
     "text": [
      "Counting overlapping between validation and test datasets in 0:01:09.171534\n",
      "Label A: 5\n",
      "Label B: 7\n",
      "Label C: 10\n",
      "Label D: 9\n",
      "Label E: 11\n",
      "Label F: 3\n",
      "Label G: 11\n",
      "Label H: 6\n",
      "Label I: 8\n",
      "Label J: 8\n",
      "Total: 78\n"
     ]
    }
   ],
   "source": [
    "start_time = time.clock()\n",
    "overlap_valid_test = count_equal_tuples(valid_tuple_lst, test_tuple_lst)\n",
    "end_time = time.clock()\n",
    "duration = timedelta(seconds=end_time - start_time)\n",
    "print('Counting overlapping between validation and test datasets in', duration)\n",
    "display_overlap(overlap_valid_test)"
   ]
  },
  {
   "cell_type": "code",
   "execution_count": 7,
   "metadata": {
    "collapsed": false
   },
   "outputs": [],
   "source": [
    "from ipyparallel import Client\n",
    "rc = Client()\n",
    "dview = rc[:]"
   ]
  },
  {
   "cell_type": "code",
   "execution_count": 19,
   "metadata": {
    "collapsed": false
   },
   "outputs": [
    {
     "name": "stdout",
     "output_type": "stream",
     "text": [
      "0:00:24.122032\n"
     ]
    },
    {
     "data": {
      "text/plain": [
       "array([224,  24,   7,  10,   5,   4,   4,   9,  11,   3,   6,   6,   2,\n",
       "         6,  12,   4,   4,   4,   6,   8,   8,  10,   8,   6,   5,   8,\n",
       "         4,   2,   6,   7,   9,   5,   8,   5,   7,   2,  12,   5,   2,\n",
       "         4,   5,   5,   6,  10,   5,   4,   8,   2,   4,   1,   1,   4,\n",
       "         2,   4,   8,   2,   1,   5,   1,   1,   4,   4,   6,   0,   3,\n",
       "         4,   3,   1,   2,   2,   3,   1,   1,   3,   0,   3,   1,   0,\n",
       "         2,   4,   5,   1,   0,   2,   0,   0,   2,   3,   2,   1,   3,\n",
       "         0,   2,   4,   0,   1,   2,   0,   0,   1,   1,   4,   1,   2,\n",
       "         0,   2,   4,   0,   1,   1,  18, 113], dtype=int64)"
      ]
     },
     "execution_count": 19,
     "metadata": {},
     "output_type": "execute_result"
    }
   ],
   "source": [
    "start_time = time.clock()\n",
    "serial_result = list(map(calc_item_histogram, train_dataset))\n",
    "end_time = time.clock()\n",
    "print(timedelta(seconds=end_time - start_time))\n",
    "serial_result[0]"
   ]
  },
  {
   "cell_type": "code",
   "execution_count": 22,
   "metadata": {
    "collapsed": false
   },
   "outputs": [
    {
     "name": "stdout",
     "output_type": "stream",
     "text": [
      "0:00:09.314704\n"
     ]
    },
    {
     "data": {
      "text/plain": [
       "array([224,  24,   7,  10,   5,   4,   4,   9,  11,   3,   6,   6,   2,\n",
       "         6,  12,   4,   4,   4,   6,   8,   8,  10,   8,   6,   5,   8,\n",
       "         4,   2,   6,   7,   9,   5,   8,   5,   7,   2,  12,   5,   2,\n",
       "         4,   5,   5,   6,  10,   5,   4,   8,   2,   4,   1,   1,   4,\n",
       "         2,   4,   8,   2,   1,   5,   1,   1,   4,   4,   6,   0,   3,\n",
       "         4,   3,   1,   2,   2,   3,   1,   1,   3,   0,   3,   1,   0,\n",
       "         2,   4,   5,   1,   0,   2,   0,   0,   2,   3,   2,   1,   3,\n",
       "         0,   2,   4,   0,   1,   2,   0,   0,   1,   1,   4,   1,   2,\n",
       "         0,   2,   4,   0,   1,   1,  18, 113], dtype=int64)"
      ]
     },
     "execution_count": 22,
     "metadata": {},
     "output_type": "execute_result"
    }
   ],
   "source": [
    "start_time = time.clock()\n",
    "async_obj = dview.map(calc_item_histogram, train_dataset)\n",
    "res = async_obj.get()\n",
    "end_time = time.clock()\n",
    "print(timedelta(seconds=end_time - start_time))\n",
    "res[0]"
   ]
  },
  {
   "cell_type": "code",
   "execution_count": 23,
   "metadata": {
    "collapsed": false
   },
   "outputs": [
    {
     "data": {
      "text/plain": [
       "0"
      ]
     },
     "execution_count": 23,
     "metadata": {},
     "output_type": "execute_result"
    }
   ],
   "source": [
    "manhattan_distance(serial_result[0], res[0])"
   ]
  },
  {
   "cell_type": "code",
   "execution_count": 33,
   "metadata": {
    "collapsed": false
   },
   "outputs": [
    {
     "name": "stdout",
     "output_type": "stream",
     "text": [
      "(28, 28) (28, 28)\n",
      "291.098\n",
      "291.098\n"
     ]
    }
   ],
   "source": [
    "item_a = valid_dataset[8]\n",
    "item_b = valid_dataset[9]\n",
    "print(item_a.shape, item_b.shape)\n",
    "print(manhattan_distance(item_a, item_b))\n",
    "print(distance.cityblock(item_a.flatten(), item_b.flatten()))"
   ]
  },
  {
   "cell_type": "code",
   "execution_count": 34,
   "metadata": {
    "collapsed": false
   },
   "outputs": [
    {
     "name": "stdout",
     "output_type": "stream",
     "text": [
      "The slowest run took 13.99 times longer than the fastest. This could mean that an intermediate result is being cached.\n",
      "100000 loops, best of 3: 7.75 µs per loop\n"
     ]
    }
   ],
   "source": [
    "%timeit manhattan_distance(item_a, item_b)"
   ]
  },
  {
   "cell_type": "code",
   "execution_count": 36,
   "metadata": {
    "collapsed": false
   },
   "outputs": [
    {
     "name": "stdout",
     "output_type": "stream",
     "text": [
      "The slowest run took 16.80 times longer than the fastest. This could mean that an intermediate result is being cached.\n",
      "100000 loops, best of 3: 4.99 µs per loop\n"
     ]
    }
   ],
   "source": [
    "%timeit is_equal_comparison(item_a, item_b)"
   ]
  },
  {
   "cell_type": "code",
   "execution_count": 37,
   "metadata": {
    "collapsed": false
   },
   "outputs": [
    {
     "name": "stdout",
     "output_type": "stream",
     "text": [
      "The slowest run took 7.53 times longer than the fastest. This could mean that an intermediate result is being cached.\n",
      "100000 loops, best of 3: 5.46 µs per loop\n"
     ]
    }
   ],
   "source": [
    "%timeit manhattan_distance(valid_histogram[8], valid_histogram[9])"
   ]
  },
  {
   "cell_type": "code",
   "execution_count": 38,
   "metadata": {
    "collapsed": false
   },
   "outputs": [
    {
     "name": "stdout",
     "output_type": "stream",
     "text": [
      "The slowest run took 13.14 times longer than the fastest. This could mean that an intermediate result is being cached.\n",
      "100000 loops, best of 3: 16.4 µs per loop\n"
     ]
    }
   ],
   "source": [
    "%timeit distance.cityblock(item_a.flatten(), item_b.flatten())"
   ]
  },
  {
   "cell_type": "code",
   "execution_count": 32,
   "metadata": {
    "collapsed": false
   },
   "outputs": [
    {
     "ename": "NameError",
     "evalue": "name 'lview' is not defined",
     "output_type": "error",
     "traceback": [
      "\u001b[0;31m---------------------------------------------------------------------------\u001b[0m",
      "\u001b[0;31mNameError\u001b[0m                                 Traceback (most recent call last)",
      "\u001b[0;32m<ipython-input-32-07fb9d2a2762>\u001b[0m in \u001b[0;36m<module>\u001b[0;34m()\u001b[0m\n\u001b[0;32m----> 1\u001b[0;31m \u001b[1;33m@\u001b[0m\u001b[0mlview\u001b[0m\u001b[1;33m.\u001b[0m\u001b[0mparallel\u001b[0m\u001b[1;33m(\u001b[0m\u001b[1;33m)\u001b[0m\u001b[1;33m\u001b[0m\u001b[0m\n\u001b[0m\u001b[1;32m      2\u001b[0m \u001b[1;32mdef\u001b[0m \u001b[0mf\u001b[0m\u001b[1;33m(\u001b[0m\u001b[0mx\u001b[0m\u001b[1;33m)\u001b[0m\u001b[1;33m:\u001b[0m\u001b[1;33m\u001b[0m\u001b[0m\n\u001b[1;32m      3\u001b[0m     \u001b[1;32mreturn\u001b[0m \u001b[1;36m10.0\u001b[0m\u001b[1;33m*\u001b[0m\u001b[0mx\u001b[0m\u001b[1;33m**\u001b[0m\u001b[1;36m4\u001b[0m\u001b[1;33m\u001b[0m\u001b[0m\n",
      "\u001b[0;31mNameError\u001b[0m: name 'lview' is not defined"
     ]
    }
   ],
   "source": [
    "lst = [(1, 'A'), (2, 'B'), (3, 'C')]"
   ]
  },
  {
   "cell_type": "code",
   "execution_count": 22,
   "metadata": {
    "collapsed": false
   },
   "outputs": [],
   "source": [
    "res = f.map(range(32))"
   ]
  },
  {
   "cell_type": "code",
   "execution_count": 24,
   "metadata": {
    "collapsed": false
   },
   "outputs": [
    {
     "data": {
      "text/plain": [
       "<AsyncMapResult: f:finished>"
      ]
     },
     "execution_count": 24,
     "metadata": {},
     "output_type": "execute_result"
    }
   ],
   "source": [
    "res"
   ]
  },
  {
   "cell_type": "markdown",
   "metadata": {
    "colab_type": "text",
    "id": "L8oww1s4JMQx"
   },
   "source": [
    "---\n",
    "Problem 6\n",
    "---------\n",
    "\n",
    "Let's get an idea of what an off-the-shelf classifier can give you on this data. It's always good to check that there is something to learn, and that it's a problem that is not so trivial that a canned solution solves it.\n",
    "\n",
    "Train a simple model on this data using 50, 100, 1000 and 5000 training samples. Hint: you can use the LogisticRegression model from sklearn.linear_model.\n",
    "\n",
    "Optional question: train an off-the-shelf model on all the data!\n",
    "\n",
    "---"
   ]
  },
  {
   "cell_type": "code",
   "execution_count": null,
   "metadata": {
    "collapsed": true
   },
   "outputs": [],
   "source": []
  },
  {
   "cell_type": "code",
   "execution_count": null,
   "metadata": {
    "collapsed": true
   },
   "outputs": [],
   "source": []
  }
 ],
 "metadata": {
  "anaconda-cloud": {},
  "colab": {
   "default_view": {},
   "name": "1_notmnist.ipynb",
   "provenance": [],
   "version": "0.3.2",
   "views": {}
  },
  "kernelspec": {
   "display_name": "Python [default]",
   "language": "python",
   "name": "python3"
  },
  "language_info": {
   "codemirror_mode": {
    "name": "ipython",
    "version": 3
   },
   "file_extension": ".py",
   "mimetype": "text/x-python",
   "name": "python",
   "nbconvert_exporter": "python",
   "pygments_lexer": "ipython3",
   "version": "3.5.2"
  }
 },
 "nbformat": 4,
 "nbformat_minor": 0
}
